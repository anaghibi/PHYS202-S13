{
 "metadata": {
  "name": "InterpAndDiffEx3.ipynb"
 },
 "nbformat": 3,
 "nbformat_minor": 0,
 "worksheets": [
  {
   "cells": [
    {
     "cell_type": "markdown",
     "metadata": {},
     "source": [
      "InterpAndDiffEx3\n",
      "="
     ]
    },
    {
     "cell_type": "markdown",
     "metadata": {},
     "source": [
      "###Problem 1a)"
     ]
    },
    {
     "cell_type": "code",
     "collapsed": false,
     "input": [
      "from Electrostatics import *"
     ],
     "language": "python",
     "metadata": {},
     "outputs": [],
     "prompt_number": 2
    },
    {
     "cell_type": "code",
     "collapsed": false,
     "input": [
      "x,y = meshgrid(arange(-5,5,0.5),arange(-5,5,0.5))\n",
      "Vdip = dipolePotential(x,y,1e-9,2.);\n",
      "contour(x,y,Vdip,cmap=cm.jet)"
     ],
     "language": "python",
     "metadata": {},
     "outputs": [
      {
       "output_type": "pyout",
       "prompt_number": 10,
       "text": [
        "<matplotlib.contour.QuadContourSet instance at 0x10c1d3ea8>"
       ]
      },
      {
       "output_type": "display_data",
       "png": "[encoded data removed]",
       "text": [
        "<matplotlib.figure.Figure at 0x10b890d90>"
       ]
      }
     ],
     "prompt_number": 10
    },
    {
     "cell_type": "code",
     "collapsed": false,
     "input": [
      "mask = (y==0)\n",
      "print mask"
     ],
     "language": "python",
     "metadata": {},
     "outputs": [
      {
       "output_type": "stream",
       "stream": "stdout",
       "text": [
        "[[False False False False False False False False False False False False\n",
        "  False False False False False False False False]\n",
        " [False False False False False False False False False False False False\n",
        "  False False False False False False False False]\n",
        " [False False False False False False False False False False False False\n",
        "  False False False False False False False False]\n",
        " [False False False False False False False False False False False False\n",
        "  False False False False False False False False]\n",
        " [False False False False False False False False False False False False\n",
        "  False False False False False False False False]\n",
        " [False False False False False False False False False False False False\n",
        "  False False False False False False False False]\n",
        " [False False False False False False False False False False False False\n",
        "  False False False False False False False False]\n",
        " [False False False False False False False False False False False False\n",
        "  False False False False False False False False]\n",
        " [False False False False False False False False False False False False\n",
        "  False False False False False False False False]\n",
        " [False False False False False False False False False False False False\n",
        "  False False False False False False False False]\n",
        " [ True  True  True  True  True  True  True  True  True  True  True  True\n",
        "   True  True  True  True  True  True  True  True]\n",
        " [False False False False False False False False False False False False\n",
        "  False False False False False False False False]\n",
        " [False False False False False False False False False False False False\n",
        "  False False False False False False False False]\n",
        " [False False False False False False False False False False False False\n",
        "  False False False False False False False False]\n",
        " [False False False False False False False False False False False False\n",
        "  False False False False False False False False]\n",
        " [False False False False False False False False False False False False\n",
        "  False False False False False False False False]\n",
        " [False False False False False False False False False False False False\n",
        "  False False False False False False False False]\n",
        " [False False False False False False False False False False False False\n",
        "  False False False False False False False False]\n",
        " [False False False False False False False False False False False False\n",
        "  False False False False False False False False]\n",
        " [False False False False False False False False False False False False\n",
        "  False False False False False False False False]]\n"
       ]
      }
     ],
     "prompt_number": 11
    },
    {
     "cell_type": "markdown",
     "metadata": {},
     "source": [
      "###Problem 1b)"
     ]
    },
    {
     "cell_type": "code",
     "collapsed": false,
     "input": [
      "print Vdip[mask]"
     ],
     "language": "python",
     "metadata": {},
     "outputs": [
      {
       "output_type": "stream",
       "stream": "stdout",
       "text": [
        "[ 0.  0.  0.  0.  0.  0.  0.  0.  0.  0.  0.  0.  0.  0.  0.  0.  0.  0.\n",
        "  0.  0.]\n"
       ]
      }
     ],
     "prompt_number": 12
    },
    {
     "cell_type": "markdown",
     "metadata": {},
     "source": [
      "###Problem 2a)"
     ]
    },
    {
     "cell_type": "code",
     "collapsed": false,
     "input": [
      "from scipy.interpolate import interp1d\n",
      "def Temp(Resistance):\n",
      "    \"\"\"\"Returns the interpolated temperature given a resistance\"\"\"\n",
      "    T = arange(10,40,1)\n",
      "    Res = [3.329e6,3.118e6,3.004e6,2.897e6,2.795e6,2.700e6,2.610e6,2.526e6,2.446e6,2.371e6,2.300e6,2.233e6,2.169e6,2.110e6,2.053e6,2.0e6,1.95e6,1.902e6,1.857e6,1.815e6,1.774e6,1.736e6,1.7e6,1.666e6,1.634e6,1.603e6,1.574e6,1.547e6,1.521e6,1.496e6]\n",
      "    R = Res[::-1]\n",
      "    test = interp1d(R,T)\n",
      "    return test(R)"
     ],
     "language": "python",
     "metadata": {},
     "outputs": [],
     "prompt_number": 6
    },
    {
     "cell_type": "markdown",
     "metadata": {},
     "source": [
      "###Problem 2b)"
     ]
    },
    {
     "cell_type": "code",
     "collapsed": false,
     "input": [
      "print Temp(3.329e6)"
     ],
     "language": "python",
     "metadata": {},
     "outputs": [
      {
       "output_type": "stream",
       "stream": "stdout",
       "text": [
        "[ 10.  11.  12.  13.  14.  15.  16.  17.  18.  19.  20.  21.  22.  23.  24.\n",
        "  25.  26.  27.  28.  29.  30.  31.  32.  33.  34.  35.  36.  37.  38.  39.]\n"
       ]
      }
     ],
     "prompt_number": 9
    },
    {
     "cell_type": "code",
     "collapsed": false,
     "input": [],
     "language": "python",
     "metadata": {},
     "outputs": []
    }
   ],
   "metadata": {}
  }
 ]
}