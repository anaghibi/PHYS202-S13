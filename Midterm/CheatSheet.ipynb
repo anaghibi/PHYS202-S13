{
 "metadata": {
  "name": "CheatSheet.ipynb"
 },
 "nbformat": 3,
 "nbformat_minor": 0,
 "worksheets": [
  {
   "cells": [
    {
     "cell_type": "markdown",
     "metadata": {},
     "source": [
      "#"
     ]
    },
    {
     "cell_type": "code",
     "collapsed": false,
     "input": [
      "help(xticks)"
     ],
     "language": "python",
     "metadata": {},
     "outputs": [
      {
       "output_type": "stream",
       "stream": "stdout",
       "text": [
        "Help on function xticks in module matplotlib.pyplot:\n",
        "\n",
        "xticks(*args, **kwargs)\n",
        "    Get or set the *x*-limits of the current tick locations and labels.\n",
        "    \n",
        "    ::\n",
        "    \n",
        "      # return locs, labels where locs is an array of tick locations and\n",
        "      # labels is an array of tick labels.\n",
        "      locs, labels = xticks()\n",
        "    \n",
        "      # set the locations of the xticks\n",
        "      xticks( arange(6) )\n",
        "    \n",
        "      # set the locations and labels of the xticks\n",
        "      xticks( arange(5), ('Tom', 'Dick', 'Harry', 'Sally', 'Sue') )\n",
        "    \n",
        "    The keyword args, if any, are :class:`~matplotlib.text.Text`\n",
        "    properties. For example, to rotate long labels::\n",
        "    \n",
        "      xticks( arange(12), calendar.month_name[1:13], rotation=17 )\n",
        "\n"
       ]
      }
     ],
     "prompt_number": 1
    },
    {
     "cell_type": "code",
     "collapsed": false,
     "input": [],
     "language": "python",
     "metadata": {},
     "outputs": [],
     "prompt_number": 2
    },
    {
     "cell_type": "code",
     "collapsed": false,
     "input": [],
     "language": "python",
     "metadata": {},
     "outputs": []
    }
   ],
   "metadata": {}
  }
 ]
}