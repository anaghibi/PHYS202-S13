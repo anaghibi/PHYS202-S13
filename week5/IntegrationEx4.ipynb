{
 "metadata": {
  "name": "IntegrationEx4.ipynb"
 },
 "nbformat": 3,
 "nbformat_minor": 0,
 "worksheets": [
  {
   "cells": [
    {
     "cell_type": "markdown",
     "metadata": {},
     "source": [
      "##Problem 1a)"
     ]
    },
    {
     "cell_type": "code",
     "collapsed": false,
     "input": [
      "E = lambda t: e**(-t**2)"
     ],
     "language": "python",
     "metadata": {},
     "outputs": [],
     "prompt_number": 12
    },
    {
     "cell_type": "code",
     "collapsed": false,
     "input": [
      "x = arange(0,3.1,0.1)"
     ],
     "language": "python",
     "metadata": {},
     "outputs": [],
     "prompt_number": 13
    },
    {
     "cell_type": "code",
     "collapsed": false,
     "input": [
      "N = len(x)\n",
      "a = 0\n",
      "b = 3.\n",
      "h = (b-a)/N\n",
      "s = 0.5*f(a)+0.5*f(b)\n",
      "for k in range(1,N):\n",
      "    s += E(a+k*h)\n",
      "print(h*s)"
     ],
     "language": "python",
     "metadata": {},
     "outputs": [
      {
       "output_type": "stream",
       "stream": "stdout",
       "text": [
        "0.886206773071\n"
       ]
      }
     ],
     "prompt_number": 15
    },
    {
     "cell_type": "markdown",
     "metadata": {},
     "source": [
      "##Problem 1b)"
     ]
    },
    {
     "cell_type": "code",
     "collapsed": false,
     "input": [
      "plot(x,E(x),lw=3,color='magenta')\n",
      "xlabel('x',fontsize=15)\n",
      "ylabel('E(x)',fontsize=15)"
     ],
     "language": "python",
     "metadata": {},
     "outputs": [
      {
       "output_type": "pyout",
       "prompt_number": 21,
       "text": [
        "<matplotlib.text.Text at 0x10b980110>"
       ]
      },
      {
       "output_type": "display_data",
       "png": "[encoded data removed]",
       "text": [
        "<matplotlib.figure.Figure at 0x10b97bfd0>"
       ]
      }
     ],
     "prompt_number": 21
    },
    {
     "cell_type": "markdown",
     "metadata": {},
     "source": [
      "##Problem 2a)"
     ]
    },
    {
     "cell_type": "code",
     "collapsed": false,
     "input": [
      "L = 1.\n",
      "psi = lambda x: abs(((2/L)**(0.5))*(sin(n*pi*x))/L)**2\n",
      "n = 1.\n",
      "N = 100\n",
      "a = L/3.\n",
      "b = L/2.\n",
      "h = (b-a)/N\n",
      "s = 0.5*psi(a)+0.5*psi(b)\n",
      "for k in range(1,N):\n",
      "    s += psi(a+k*h)\n",
      "print(h*s)"
     ],
     "language": "python",
     "metadata": {},
     "outputs": [
      {
       "output_type": "stream",
       "stream": "stdout",
       "text": [
        "0.304497630937\n"
       ]
      }
     ],
     "prompt_number": 51
    },
    {
     "cell_type": "code",
     "collapsed": false,
     "input": [
      "L = 1.\n",
      "psi = lambda x: abs(((2/L)**(0.5))*(sin(n*pi*x))/L)**2\n",
      "n = 2.\n",
      "N = 1000\n",
      "a = L/3.\n",
      "b = L/2.\n",
      "h = (b-a)/N\n",
      "s = 0.5*psi(a)+0.5*psi(b)\n",
      "for k in range(1,N):\n",
      "    s += psi(a+k*h)\n",
      "print(h*s)"
     ],
     "language": "python",
     "metadata": {},
     "outputs": [
      {
       "output_type": "stream",
       "stream": "stdout",
       "text": [
        "0.0977505799306\n"
       ]
      }
     ],
     "prompt_number": 62
    },
    {
     "cell_type": "code",
     "collapsed": false,
     "input": [
      "z = []\n",
      "for i in x:\n",
      "    z.append(x)"
     ],
     "language": "python",
     "metadata": {},
     "outputs": [],
     "prompt_number": 57
    },
    {
     "cell_type": "code",
     "collapsed": false,
     "input": [
      "trapz(z,x=[(L/3),(L/2)],dx=.1,axis=-1)"
     ],
     "language": "python",
     "metadata": {},
     "outputs": [
      {
       "output_type": "pyout",
       "prompt_number": 58,
       "text": [
        "array([ 7.5,  7.5,  7.5,  7.5,  7.5,  7.5,  7.5,  7.5,  7.5,  7.5,  7.5,\n",
        "        7.5,  7.5,  7.5,  7.5,  7.5,  7.5,  7.5,  7.5,  7.5,  7.5,  7.5,\n",
        "        7.5,  7.5,  7.5,  7.5,  7.5,  7.5,  7.5,  7.5,  7.5])"
       ]
      }
     ],
     "prompt_number": 58
    },
    {
     "cell_type": "code",
     "collapsed": false,
     "input": [
      "from scipy import integrate"
     ],
     "language": "python",
     "metadata": {},
     "outputs": [],
     "prompt_number": 59
    },
    {
     "cell_type": "code",
     "collapsed": false,
     "input": [
      "integrate.quad(psi,a,b)"
     ],
     "language": "python",
     "metadata": {},
     "outputs": [
      {
       "output_type": "pyout",
       "prompt_number": 60,
       "text": [
        "(0.3044988905221147, 3.380616792304666e-15)"
       ]
      }
     ],
     "prompt_number": 60
    },
    {
     "cell_type": "markdown",
     "metadata": {},
     "source": [
      "##Problem 2b)"
     ]
    },
    {
     "cell_type": "code",
     "collapsed": false,
     "input": [
      "plot(x,psi(x),lw=3)"
     ],
     "language": "python",
     "metadata": {},
     "outputs": [
      {
       "output_type": "pyout",
       "prompt_number": 61,
       "text": [
        "[<matplotlib.lines.Line2D at 0x10c492c50>]"
       ]
      },
      {
       "output_type": "display_data",
       "png": "[encoded data removed]",
       "text": [
        "<matplotlib.figure.Figure at 0x10c471950>"
       ]
      }
     ],
     "prompt_number": 61
    },
    {
     "cell_type": "code",
     "collapsed": false,
     "input": [
      "L = 1.\n",
      "psi = lambda x: abs(((2/L)**(0.5))*(sin(n*pi*x))/L)**2\n",
      "n = 2.\n",
      "N = 1000\n",
      "a = L/3.\n",
      "b = L/2.\n",
      "h = (b-a)/N\n",
      "s = 0.5*psi(a)+0.5*psi(b)\n",
      "for k in range(1,N):\n",
      "    s += psi(a+k*h)\n",
      "print(h*s)"
     ],
     "language": "python",
     "metadata": {},
     "outputs": [
      {
       "output_type": "stream",
       "stream": "stdout",
       "text": [
        "0.0977505799306\n"
       ]
      }
     ],
     "prompt_number": 67
    },
    {
     "cell_type": "code",
     "collapsed": false,
     "input": [
      "plot(x,psi(x),lw=3,color='red')"
     ],
     "language": "python",
     "metadata": {},
     "outputs": [
      {
       "output_type": "pyout",
       "prompt_number": 68,
       "text": [
        "[<matplotlib.lines.Line2D at 0x10bd27910>]"
       ]
      },
      {
       "output_type": "display_data",
       "png": "[encoded data removed]",
       "text": [
        "<matplotlib.figure.Figure at 0x10bd05990>"
       ]
      }
     ],
     "prompt_number": 68
    },
    {
     "cell_type": "markdown",
     "metadata": {},
     "source": [
      "##Problem 3a)"
     ]
    },
    {
     "cell_type": "markdown",
     "metadata": {},
     "source": [
      "##Problem 4a)"
     ]
    },
    {
     "cell_type": "code",
     "collapsed": false,
     "input": [
      "f = lambda x: 4*(1-x**2)**(1/2.)"
     ],
     "language": "python",
     "metadata": {},
     "outputs": [],
     "prompt_number": 69
    },
    {
     "cell_type": "code",
     "collapsed": false,
     "input": [
      "x = arange(-1,5,.001)"
     ],
     "language": "python",
     "metadata": {},
     "outputs": [],
     "prompt_number": 73
    },
    {
     "cell_type": "code",
     "collapsed": false,
     "input": [
      "xmin = 0.\n",
      "xmax = 1.\n",
      "\n",
      "#find the max value of f within the bounday to set ymax\n",
      "subx = x[logical_and((x>xmin),(x<xmax))]\n",
      "ymax = max(f(subx))*1.05\n",
      "ymin = 0\n",
      "\n",
      "#Replot the function\n",
      "myplot = plot(x,f(x),lw=3)\n",
      "xlim(-1.5,1.5)\n",
      "\n",
      "\n",
      "#plot the box\n",
      "plot ([xmin, xmin], [ymin,ymax], color='k',linestyle='--')#vertical left\n",
      "plot ([xmax, xmax], [ymin,ymax], color='k',linestyle='--')#vertical right\n",
      "plot ([xmin, xmax], [ymax,ymax], color='k',linestyle='--')#horizontal top\n",
      "\n",
      "show()"
     ],
     "language": "python",
     "metadata": {},
     "outputs": [
      {
       "output_type": "display_data",
       "png": "[encoded data removed]",
       "text": [
        "<matplotlib.figure.Figure at 0x10b82d790>"
       ]
      }
     ],
     "prompt_number": 74
    },
    {
     "cell_type": "code",
     "collapsed": false,
     "input": [
      "N = 10000\n",
      "samples_x = xmin + (xmax-xmin)*random_sample(N);\n",
      "samples_y = ymin + (ymax-ymin)*random_sample(N);\n",
      "\n",
      "#Replot the function\n",
      "myplot = plot(x,f(x),lw=3)\n",
      "xlim(-1.5,1.5)\n",
      "\n",
      "plot(samples_x[1:200],samples_y[1:200],'.')\n",
      "\n",
      "#Plot the box\n",
      "plot([xmin, xmin], [ymin,ymax], color='k',linestyle='--')\n",
      "plot([xmax, xmax], [ymin,ymax], color='k',linestyle='--')\n",
      "plot([xmin, xmax], [ymax,ymax], color='k',linestyle='--')"
     ],
     "language": "python",
     "metadata": {},
     "outputs": [
      {
       "output_type": "pyout",
       "prompt_number": 76,
       "text": [
        "[<matplotlib.lines.Line2D at 0x10c9ef510>]"
       ]
      },
      {
       "output_type": "display_data",
       "png": "[encoded data removed]",
       "text": [
        "<matplotlib.figure.Figure at 0x10bfc8050>"
       ]
      }
     ],
     "prompt_number": 76
    },
    {
     "cell_type": "code",
     "collapsed": false,
     "input": [
      "newmask = (samples_y < f(samples_x))"
     ],
     "language": "python",
     "metadata": {},
     "outputs": [],
     "prompt_number": 77
    },
    {
     "cell_type": "code",
     "collapsed": false,
     "input": [
      "I = (xmax-xmin)*(ymax-ymin)*sum(newmask)/newmask.size\n",
      "print I"
     ],
     "language": "python",
     "metadata": {},
     "outputs": [
      {
       "output_type": "stream",
       "stream": "stdout",
       "text": [
        "3.1185\n"
       ]
      }
     ],
     "prompt_number": 79
    },
    {
     "cell_type": "markdown",
     "metadata": {},
     "source": [
      "##Problem 4b)"
     ]
    },
    {
     "cell_type": "code",
     "collapsed": false,
     "input": [
      "Iexact = pi\n",
      "Ierr = 100*(Iexact-I)/Iexact\n",
      "print Iexact\n",
      "print I\n",
      "print 'error =',Ierr,'%'"
     ],
     "language": "python",
     "metadata": {},
     "outputs": [
      {
       "output_type": "stream",
       "stream": "stdout",
       "text": [
        "3.14159265359\n",
        "3.1185\n",
        "error = 0.735061993585 %\n"
       ]
      }
     ],
     "prompt_number": 80
    },
    {
     "cell_type": "markdown",
     "metadata": {},
     "source": [
      "##Problem 4c)"
     ]
    },
    {
     "cell_type": "code",
     "collapsed": false,
     "input": [],
     "language": "python",
     "metadata": {},
     "outputs": []
    }
   ],
   "metadata": {}
  }
 ]
}