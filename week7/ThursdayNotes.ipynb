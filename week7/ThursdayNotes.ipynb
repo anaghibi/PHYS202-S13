{
 "metadata": {
  "name": "ThursdayNotes.ipynb"
 },
 "nbformat": 3,
 "nbformat_minor": 0,
 "worksheets": [
  {
   "cells": [
    {
     "cell_type": "markdown",
     "metadata": {},
     "source": [
      "Example 1\n",
      "="
     ]
    },
    {
     "cell_type": "code",
     "collapsed": false,
     "input": [
      "t = arange(0, 5.01, 0.01)\n",
      "\n",
      "v = zeros(t.shape)\n",
      "r = zeros(t.shape)\n",
      "a = ones(t.shape)*-9.8\n",
      "r_0 = 0\n",
      "v_0 = 0\n",
      "v[0] = v_0\n",
      "r[0] = r_0\n",
      "\n",
      "\n",
      "for n in range(1, len(t)):\n",
      "    v[n] = v[n-1] + a[n-1]*0.01  # dt = 0.01\n",
      "\n",
      "for n in range(1, len(t)):\n",
      "    r[n] = r[n-1] + v[n-1]*0.01\n",
      "\n",
      "plot(t,r,label=\"Position\", lw = 2)\n",
      "plot(t,v,label=\"Velocity\", color = 'magenta', lw=2)\n",
      "xlabel('time (s)')\n",
      "\n",
      "legend(loc=0)\n",
      "show()"
     ],
     "language": "python",
     "metadata": {},
     "outputs": [
      {
       "output_type": "display_data",
       "png": "[encoded data removed]",
       "text": [
        "<matplotlib.figure.Figure at 0x10b2b6cd0>"
       ]
      }
     ],
     "prompt_number": 8
    },
    {
     "cell_type": "markdown",
     "metadata": {},
     "source": [
      "Exercise 1\n",
      "="
     ]
    },
    {
     "cell_type": "markdown",
     "metadata": {},
     "source": [
      "###Part a)"
     ]
    },
    {
     "cell_type": "code",
     "collapsed": false,
     "input": [
      "f = lambda x,y: x + 2*y\n",
      "y_0 = 0\n",
      "dx_1 = 0.25\n",
      "dx_2 = 0.2\n",
      "x1 = arange(0,1+dx_1,dx_1)\n",
      "x2 = arange(0,1+dx_2,dx_2)\n",
      "y1 = zeros(x1.shape)\n",
      "y2 = zeros(x2.shape)\n",
      "\n",
      "def y_pos1(dxdy,y0,delta):\n",
      "    for n in range(y1.size-1):\n",
      "        y1[n+1] = y1[n] + dxdy(x1[n], y1[n])*delta\n",
      "    return x1,y1\n",
      "\n",
      "\n",
      "def y_pos2(dxdy,y0,delta):\n",
      "    for n in range(y2.size-1):\n",
      "        y2[n+1] = y2[n] + dxdy(x2[n], y2[n])*delta\n",
      "    return x2,y2\n",
      "\n",
      "\n",
      "y_1 = y_pos1(f,y_0,dx_1)\n",
      "y_2 = y_pos2(f,y_0,dx_2)\n",
      "print y_1\n",
      "print y_2"
     ],
     "language": "python",
     "metadata": {},
     "outputs": [
      {
       "output_type": "stream",
       "stream": "stdout",
       "text": [
        "(array([ 0.  ,  0.25,  0.5 ,  0.75,  1.  ]), array([ 0.      ,  0.      ,  0.0625  ,  0.21875 ,  0.515625]))\n",
        "(array([ 0. ,  0.2,  0.4,  0.6,  0.8,  1. ]), array([ 0.     ,  0.     ,  0.04   ,  0.136  ,  0.3104 ,  0.59456]))\n"
       ]
      }
     ],
     "prompt_number": 6
    },
    {
     "cell_type": "markdown",
     "metadata": {},
     "source": [
      "###part b)"
     ]
    },
    {
     "cell_type": "code",
     "collapsed": false,
     "input": [],
     "language": "python",
     "metadata": {},
     "outputs": []
    }
   ],
   "metadata": {}
  }
 ]
}