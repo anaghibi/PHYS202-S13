{
 "metadata": {
  "name": "Project_Euler_Problem6"
 },
 "nbformat": 3,
 "nbformat_minor": 0,
 "worksheets": [
  {
   "cells": [
    {
     "cell_type": "markdown",
     "metadata": {},
     "source": [
      "Sum Square Difference\n",
      "======================\n",
      "Problem 6\n",
      "----------\n",
      "The sum of the squares of the first ten natural numbers is,\n",
      "\n",
      "1$^2$ + 2$^2$ + ... + 10$^2$ = 385\n",
      "\n",
      "The square of the sum of the first ten natural numbers is,\n",
      "\n",
      "(1 + 2 + ... + 10)$^2$ = 552 = 3025\n",
      "\n",
      "Hence the difference between the sum of the squares of the first ten natural numbers and the square of the sum is 3025  385 = 2640.\n",
      "\n",
      "Find the difference between the sum of the squares of the first one hundred natural numbers and the square of the sum.\n"
     ]
    },
    {
     "cell_type": "code",
     "collapsed": false,
     "input": [
      "def square_then_add(n,m):\n",
      "    s = 0\n",
      "    for i in range(n,m+1):\n",
      "        s += i**2\n",
      "    return s\n",
      "def add_then_square(x,y):\n",
      "    a = 0\n",
      "    for i in range(x,y+1):\n",
      "        a += i\n",
      "    a = a**2\n",
      "    return a\n",
      "\n",
      "print add_then_square(1,100) - square_then_add(1,100) \n",
      "        \n",
      "\n"
     ],
     "language": "python",
     "metadata": {},
     "outputs": [
      {
       "output_type": "stream",
       "stream": "stdout",
       "text": [
        "25164150\n"
       ]
      }
     ],
     "prompt_number": 18
    }
   ],
   "metadata": {}
  }
 ]
}