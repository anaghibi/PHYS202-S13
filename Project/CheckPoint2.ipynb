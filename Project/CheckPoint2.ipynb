{
 "metadata": {
  "name": "CheckPoint2"
 },
 "nbformat": 3,
 "nbformat_minor": 0,
 "worksheets": [
  {
   "cells": [
    {
     "cell_type": "markdown",
     "metadata": {},
     "source": [
      "Checkpoint 1 for Project 2\n",
      "="
     ]
    },
    {
     "cell_type": "code",
     "collapsed": false,
     "input": [
      "import numpy as np"
     ],
     "language": "python",
     "metadata": {},
     "outputs": [],
     "prompt_number": 13
    },
    {
     "cell_type": "code",
     "collapsed": false,
     "input": [
      "n = 5\n",
      "L = 40\n",
      "x = np.random.random(n)*L\n",
      "v = np.random.random(n)*10\n",
      "x_poss = int(sort(x.round()))\n",
      "v_poss = int(v.round())\n",
      "\n",
      "possible_vehicle_pos = arange(0,L,1)\n",
      "print possible_vehicle_pos\n",
      "print x_poss\n",
      "print v_poss"
     ],
     "language": "python",
     "metadata": {},
     "outputs": [
      {
       "ename": "TypeError",
       "evalue": "only length-1 arrays can be converted to Python scalars",
       "output_type": "pyerr",
       "traceback": [
        "\u001b[0;31m---------------------------------------------------------------------------\u001b[0m\n\u001b[0;31mTypeError\u001b[0m                                 Traceback (most recent call last)",
        "\u001b[0;32m<ipython-input-24-7721937a04b8>\u001b[0m in \u001b[0;36m<module>\u001b[0;34m()\u001b[0m\n\u001b[1;32m      3\u001b[0m \u001b[0mx\u001b[0m \u001b[0;34m=\u001b[0m \u001b[0mnp\u001b[0m\u001b[0;34m.\u001b[0m\u001b[0mrandom\u001b[0m\u001b[0;34m.\u001b[0m\u001b[0mrandom\u001b[0m\u001b[0;34m(\u001b[0m\u001b[0mn\u001b[0m\u001b[0;34m)\u001b[0m\u001b[0;34m*\u001b[0m\u001b[0mL\u001b[0m\u001b[0;34m\u001b[0m\u001b[0m\n\u001b[1;32m      4\u001b[0m \u001b[0mv\u001b[0m \u001b[0;34m=\u001b[0m \u001b[0mnp\u001b[0m\u001b[0;34m.\u001b[0m\u001b[0mrandom\u001b[0m\u001b[0;34m.\u001b[0m\u001b[0mrandom\u001b[0m\u001b[0;34m(\u001b[0m\u001b[0mn\u001b[0m\u001b[0;34m)\u001b[0m\u001b[0;34m*\u001b[0m\u001b[0;36m10\u001b[0m\u001b[0;34m\u001b[0m\u001b[0m\n\u001b[0;32m----> 5\u001b[0;31m \u001b[0mx_poss\u001b[0m \u001b[0;34m=\u001b[0m \u001b[0mint\u001b[0m\u001b[0;34m(\u001b[0m\u001b[0msort\u001b[0m\u001b[0;34m(\u001b[0m\u001b[0mx\u001b[0m\u001b[0;34m.\u001b[0m\u001b[0mround\u001b[0m\u001b[0;34m(\u001b[0m\u001b[0;34m)\u001b[0m\u001b[0;34m)\u001b[0m\u001b[0;34m)\u001b[0m\u001b[0;34m\u001b[0m\u001b[0m\n\u001b[0m\u001b[1;32m      6\u001b[0m \u001b[0mv_poss\u001b[0m \u001b[0;34m=\u001b[0m \u001b[0mint\u001b[0m\u001b[0;34m(\u001b[0m\u001b[0mv\u001b[0m\u001b[0;34m.\u001b[0m\u001b[0mround\u001b[0m\u001b[0;34m(\u001b[0m\u001b[0;34m)\u001b[0m\u001b[0;34m)\u001b[0m\u001b[0;34m\u001b[0m\u001b[0m\n\u001b[1;32m      7\u001b[0m \u001b[0;34m\u001b[0m\u001b[0m\n",
        "\u001b[0;31mTypeError\u001b[0m: only length-1 arrays can be converted to Python scalars"
       ]
      }
     ],
     "prompt_number": 24
    },
    {
     "cell_type": "code",
     "collapsed": false,
     "input": [
      "def CA184(n,pos,vel,Len):\n",
      "    g = np.zeros(n)\n",
      "    for i in range(0,n):\n",
      "        if i+1 < n: #not last car\n",
      "            g[i] = pos[i+1] - pos[i]\n",
      "        else:\n",
      "            g[i] = L - pos[i]\n",
      "    for i in range(0,n):# car doesn't move if no space in front\n",
      "        if  g[i] == 0:\n",
      "            vel[i] = 0\n",
      "        elif g[i] < vel[i]: #increase v to g if there is space\n",
      "            vel[i] = g[i]\n",
      "            pos[i] += vel[i]\n",
      "        elif vel[i]<g[i] and vel[i]<10: #increase speed until max if there is space\n",
      "            vel[i] = vel[i] + 1\n",
      "            pos[i] += pos[i]\n",
      "    return pos,vel\n",
      "print 'position =',x_poss\n",
      "print 'velocity =',v_poss"
     ],
     "language": "python",
     "metadata": {},
     "outputs": [
      {
       "output_type": "stream",
       "stream": "stdout",
       "text": [
        "position = [ 44.  38.  76.  40.  40.]\n",
        "velocity = [  8.  -6.   1. -36.   0.]\n"
       ]
      }
     ],
     "prompt_number": 31
    },
    {
     "cell_type": "code",
     "collapsed": false,
     "input": [
      "pos,vel = CA184(5,x_poss,v_poss,L)\n",
      "print 'position: ',pos\n",
      "print 'velocity: ',vel"
     ],
     "language": "python",
     "metadata": {},
     "outputs": [
      {
       "output_type": "stream",
       "stream": "stdout",
       "text": [
        "position:  [ 38.  76.  40.  40.  40.]\n",
        "velocity:  [ -6.  -5. -36.   0.   0.]\n"
       ]
      }
     ],
     "prompt_number": 32
    },
    {
     "cell_type": "markdown",
     "metadata": {},
     "source": [
      "Checkpoint 2 Attempt:\n",
      "="
     ]
    },
    {
     "cell_type": "code",
     "collapsed": false,
     "input": [
      "def CA184_ASEP(n,pos,vel,Len):\n",
      "    g = np.zeros(n)\n",
      "    random_array = np.random.permutation(5) #Picking the first car\n",
      "    for i in random_array:\n",
      "        g[i] = L - x_poss[i]\n",
      "        if g[i] == 0:\n",
      "            vel[i] = 0\n",
      "        elif vel[i] > g[i]:\n",
      "            vel[i] = g[i]\n",
      "            pos[i] += vel[i]\n",
      "        elif vel[i] < g[i] and vel[i] < 65:\n",
      "            vel[i] = vel[i] + 1\n",
      "            pos[i] += vel[i]\n",
      "    return pos,vel\n",
      "print \"position: \",x_poss\n",
      "print \"velocity: \",v_poss\n",
      "print CA184_ASEP(5,x_poss,v_poss,L)"
     ],
     "language": "python",
     "metadata": {},
     "outputs": [
      {
       "output_type": "stream",
       "stream": "stdout",
       "text": [
        "position:  [ 21.  42.  35.  35.  40.]\n",
        "velocity:  [  2.  10.   2.   0.   5.]\n",
        "(array([ 24.,  40.,  38.,  36.,  40.]), array([ 3., -2.,  3.,  1.,  0.]))\n"
       ]
      }
     ],
     "prompt_number": 16
    },
    {
     "cell_type": "code",
     "collapsed": false,
     "input": [
      "print \"position: \",x_poss\n",
      "print \"velocity: \",v_poss\n",
      "print CA184_ASEP(5,x_poss,v_poss,L)"
     ],
     "language": "python",
     "metadata": {},
     "outputs": [
      {
       "output_type": "stream",
       "stream": "stdout",
       "text": [
        "position:  [ 24.  40.  38.  36.  40.]\n",
        "velocity:  [ 3. -2.  3.  1.  0.]\n",
        "(array([ 28.,  40.,  40.,  38.,  40.]), array([ 4.,  0.,  2.,  2.,  0.]))\n"
       ]
      }
     ],
     "prompt_number": 17
    },
    {
     "cell_type": "markdown",
     "metadata": {},
     "source": [
      "###3 Test Cases"
     ]
    },
    {
     "cell_type": "code",
     "collapsed": false,
     "input": [
      "print \"position: \",x_poss\n",
      "print \"velocity: \",v_poss\n",
      "print CA184_ASEP(5,x_poss,v_poss,L)"
     ],
     "language": "python",
     "metadata": {},
     "outputs": [
      {
       "output_type": "stream",
       "stream": "stdout",
       "text": [
        "position:  [ 28.  40.  40.  38.  40.]\n",
        "velocity:  [ 4.  0.  2.  2.  0.]\n",
        "(array([ 33.,  40.,  40.,  38.,  40.]), array([ 5.,  0.,  0.,  2.,  0.]))\n"
       ]
      }
     ],
     "prompt_number": 18
    },
    {
     "cell_type": "code",
     "collapsed": false,
     "input": [
      "print \"position: \",x_poss\n",
      "print \"velocity: \",v_poss\n",
      "print CA184_ASEP(5,x_poss,v_poss,L)"
     ],
     "language": "python",
     "metadata": {},
     "outputs": [
      {
       "output_type": "stream",
       "stream": "stdout",
       "text": [
        "position:  [ 33.  40.  40.  38.  40.]\n",
        "velocity:  [ 5.  0.  0.  2.  0.]\n",
        "(array([ 39.,  40.,  40.,  38.,  40.]), array([ 6.,  0.,  0.,  2.,  0.]))\n"
       ]
      }
     ],
     "prompt_number": 19
    },
    {
     "cell_type": "code",
     "collapsed": false,
     "input": [
      "print \"position: \",x_poss\n",
      "print \"velocity: \",v_poss\n",
      "print CA184_ASEP(5,x_poss,v_poss,L)"
     ],
     "language": "python",
     "metadata": {},
     "outputs": [
      {
       "output_type": "stream",
       "stream": "stdout",
       "text": [
        "position:  [ 39.  40.  40.  38.  40.]\n",
        "velocity:  [ 6.  0.  0.  2.  0.]\n",
        "(array([ 40.,  40.,  40.,  38.,  40.]), array([ 1.,  0.,  0.,  2.,  0.]))\n"
       ]
      }
     ],
     "prompt_number": 20
    },
    {
     "cell_type": "code",
     "collapsed": false,
     "input": [],
     "language": "python",
     "metadata": {},
     "outputs": [],
     "prompt_number": 20
    }
   ],
   "metadata": {}
  }
 ]
}