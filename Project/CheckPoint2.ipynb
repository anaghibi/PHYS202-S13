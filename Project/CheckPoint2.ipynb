{
 "metadata": {
  "name": "CheckPoint2.ipynb"
 },
 "nbformat": 3,
 "nbformat_minor": 0,
 "worksheets": [
  {
   "cells": [
    {
     "cell_type": "markdown",
     "metadata": {},
     "source": [
      "Checkpoint 1 for Project 2\n",
      "="
     ]
    },
    {
     "cell_type": "code",
     "collapsed": false,
     "input": [
      "import numpy as np"
     ],
     "language": "python",
     "metadata": {},
     "outputs": [],
     "prompt_number": 49
    },
    {
     "cell_type": "code",
     "collapsed": false,
     "input": [
      "n = 5\n",
      "L = 40\n",
      "x = np.random.random(n)*L\n",
      "v = np.random.random(n)*65\n",
      "x_poss = sort(x.round())\n",
      "v_poss = v.round()\n",
      "\n",
      "possible_vehicle_pos = arange(0,L+1,1)\n",
      "print possible_vehicle_pos\n",
      "print x_poss\n",
      "print v_poss"
     ],
     "language": "python",
     "metadata": {},
     "outputs": [
      {
       "output_type": "stream",
       "stream": "stdout",
       "text": [
        "[ 0  1  2  3  4  5  6  7  8  9 10 11 12 13 14 15 16 17 18 19 20 21 22 23 24\n",
        " 25 26 27 28 29 30 31 32 33 34 35 36 37 38 39 40]\n",
        "[  9.  13.  29.  32.  36.]\n",
        "[ 43.   0.  62.  11.  47.]\n"
       ]
      }
     ],
     "prompt_number": 50
    },
    {
     "cell_type": "code",
     "collapsed": false,
     "input": [
      "def CA184(n,pos,vel,Len):\n",
      "    g = np.zeros(n)\n",
      "    for i in range(0,n):\n",
      "        if i+1 < n: #not last car\n",
      "            g[i] = int(x_poss[i+1] - x_poss[i])\n",
      "        else:\n",
      "            g[i] = L - x_poss[i]\n",
      "    for i in range(0,n):# car doesn't move if no space in front\n",
      "        if  g[i] == 0:\n",
      "            v_poss[i] == 0\n",
      "        elif g[i] < v_poss[i]: #increase v to g if there is space\n",
      "            v_poss[i] = g[i]\n",
      "            x_poss[i] += v_poss[i]\n",
      "        elif v_poss[i]<g[i] and v_poss[i]<65: #increase speed until max if there is space\n",
      "            v_poss[i] = v_poss[i] + 1\n",
      "            x_poss[i] += v_poss[i]\n",
      "    print g\n",
      "print \"position: \",x_poss\n",
      "print \"velocity: \",v_poss\n",
      "print CA184(5,x_poss,v_poss,L)        "
     ],
     "language": "python",
     "metadata": {},
     "outputs": [
      {
       "output_type": "stream",
       "stream": "stdout",
       "text": [
        "position:  [  9.  13.  29.  32.  36.]\n",
        "velocity:  [ 43.   0.  62.  11.  47.]\n",
        "[  4.  16.   3.   4.   4.]\n",
        "None\n"
       ]
      }
     ],
     "prompt_number": 51
    },
    {
     "cell_type": "markdown",
     "metadata": {},
     "source": [
      "Checkpoint 2 Attempt:\n",
      "="
     ]
    },
    {
     "cell_type": "code",
     "collapsed": false,
     "input": [
      "def CA184_ASEP(n,pos,vel,Len):\n",
      "    g = np.zeros(n)\n",
      "    i = np.random.randint(1,5) #Picking the first car\n",
      "    g[i] = L - x_poss[i]\n",
      "    if g[i] == 0:\n",
      "        v_poss[i] == 0\n",
      "    elif v_poss[i] > g[i]:\n",
      "        v_poss[i] = g[i]\n",
      "        x_poss[i] += v_poss[i]\n",
      "    elif v_poss[i] < g[i] and v_poss[i] < 65:\n",
      "        v_poss[i] = v_poss[i] + 1\n",
      "        x_poss[i] += v_poss[i]\n",
      "    print g\n",
      "print \"position: \",x_poss\n",
      "print \"velocity: \",v_poss\n",
      "print CA184_ASEP(5,x_poss,v_poss,L)"
     ],
     "language": "python",
     "metadata": {},
     "outputs": [
      {
       "output_type": "stream",
       "stream": "stdout",
       "text": [
        "position:  [ 13.  14.  32.  36.  40.]\n",
        "velocity:  [ 4.  1.  3.  4.  4.]\n",
        "[ 0.  0.  0.  4.  0.]\n",
        "None\n"
       ]
      }
     ],
     "prompt_number": 52
    },
    {
     "cell_type": "code",
     "collapsed": false,
     "input": [
      "print \"position: \",x_poss\n",
      "print \"velocity: \",v_poss\n",
      "print CA184_ASEP(5,x_poss,v_poss,L)"
     ],
     "language": "python",
     "metadata": {},
     "outputs": [
      {
       "output_type": "stream",
       "stream": "stdout",
       "text": [
        "position:  [ 13.  14.  32.  36.  40.]\n",
        "velocity:  [ 4.  1.  3.  4.  4.]\n",
        "[  0.  26.   0.   0.   0.]\n",
        "None\n"
       ]
      }
     ],
     "prompt_number": 54
    },
    {
     "cell_type": "markdown",
     "metadata": {},
     "source": [
      "###3 Test Cases"
     ]
    },
    {
     "cell_type": "code",
     "collapsed": false,
     "input": [
      "print \"position: \",x_poss\n",
      "print \"velocity: \",v_poss\n",
      "print CA184_ASEP(5,x_poss,v_poss,L)"
     ],
     "language": "python",
     "metadata": {},
     "outputs": [
      {
       "output_type": "stream",
       "stream": "stdout",
       "text": [
        "position:  [ 13.  16.  32.  36.  40.]\n",
        "velocity:  [ 4.  2.  3.  4.  4.]\n",
        "[ 0.  0.  8.  0.  0.]\n",
        "None\n"
       ]
      }
     ],
     "prompt_number": 55
    },
    {
     "cell_type": "code",
     "collapsed": false,
     "input": [
      "print \"position: \",x_poss\n",
      "print \"velocity: \",v_poss\n",
      "print CA184_ASEP(5,x_poss,v_poss,L)"
     ],
     "language": "python",
     "metadata": {},
     "outputs": [
      {
       "output_type": "stream",
       "stream": "stdout",
       "text": [
        "position:  [ 13.  16.  36.  36.  40.]\n",
        "velocity:  [ 4.  2.  4.  4.  4.]\n",
        "[ 0.  0.  0.  0.  0.]\n",
        "None\n"
       ]
      }
     ],
     "prompt_number": 56
    },
    {
     "cell_type": "code",
     "collapsed": false,
     "input": [
      "print \"position: \",x_poss\n",
      "print \"velocity: \",v_poss\n",
      "print CA184_ASEP(5,x_poss,v_poss,L)"
     ],
     "language": "python",
     "metadata": {},
     "outputs": [
      {
       "output_type": "stream",
       "stream": "stdout",
       "text": [
        "position:  [ 13.  16.  36.  36.  40.]\n",
        "velocity:  [ 4.  2.  4.  4.  4.]\n",
        "[  0.  24.   0.   0.   0.]\n",
        "None\n"
       ]
      }
     ],
     "prompt_number": 57
    },
    {
     "cell_type": "code",
     "collapsed": false,
     "input": [],
     "language": "python",
     "metadata": {},
     "outputs": []
    }
   ],
   "metadata": {}
  }
 ]
}