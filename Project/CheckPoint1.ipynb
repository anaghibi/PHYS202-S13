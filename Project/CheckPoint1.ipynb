{
 "metadata": {
  "name": "CheckPoint1.ipynb"
 },
 "nbformat": 3,
 "nbformat_minor": 0,
 "worksheets": [
  {
   "cells": [
    {
     "cell_type": "markdown",
     "metadata": {},
     "source": [
      "Checkpoint 1 for Project 2\n",
      "="
     ]
    },
    {
     "cell_type": "code",
     "collapsed": false,
     "input": [
      "import numpy as np"
     ],
     "language": "python",
     "metadata": {},
     "outputs": [],
     "prompt_number": 23
    },
    {
     "cell_type": "code",
     "collapsed": false,
     "input": [
      "n = 5\n",
      "L = 40\n",
      "x = np.random.random(n)*L\n",
      "v = np.random.random(n)*65\n",
      "x_poss = sort(x.round())\n",
      "v_poss = v.round()\n",
      "\n",
      "possible_vehicle_pos = arange(0,L+1,1)\n",
      "print possible_vehicle_pos\n",
      "print x_poss\n",
      "print v_poss"
     ],
     "language": "python",
     "metadata": {},
     "outputs": [
      {
       "output_type": "stream",
       "stream": "stdout",
       "text": [
        "[ 0  1  2  3  4  5  6  7  8  9 10 11 12 13 14 15 16 17 18 19 20 21 22 23 24\n",
        " 25 26 27 28 29 30 31 32 33 34 35 36 37 38 39 40]\n",
        "[ 10.  18.  31.  38.  39.]\n",
        "[ 17.  27.  53.   0.  10.]\n"
       ]
      }
     ],
     "prompt_number": 25
    },
    {
     "cell_type": "code",
     "collapsed": false,
     "input": [
      "def CA184(pos,vel,Len):\n",
      "     g = np.zeros(n)\n",
      "     for i in range(0,L):\n",
      "        if i+1 < n: #not last car\n",
      "            g[i] = int(x_poss[i+1] - x_poss[i])\n",
      "        else:\n",
      "            g[i] = L - x_poss[i]\n",
      "     for i in range(0,L):# car doesn't move if no space in front\n",
      "        if  g[i] == 0:\n",
      "            v_poss[i] == 0\n",
      "        elif g[i] < v_poss[i]: #increase v to g if there is space\n",
      "            v_poss[i] = g[i]\n",
      "        elif 65<v_poss[i]<g[i]: #increase speed until max if there is space\n",
      "            v_poss[i] = v_poss[i] + 1\n",
      "print g\n",
      "print \"position: \",x_poss\n",
      "print \"velocity: \",v_poss\n",
      "print CA184(x_poss,v_poss,L)        "
     ],
     "language": "python",
     "metadata": {},
     "outputs": [
      {
       "ename": "IndexError",
       "evalue": "index out of bounds",
       "output_type": "pyerr",
       "traceback": [
        "\u001b[0;31m---------------------------------------------------------------------------\u001b[0m\n\u001b[0;31mIndexError\u001b[0m                                Traceback (most recent call last)",
        "\u001b[0;32m<ipython-input-38-4e28576bac59>\u001b[0m in \u001b[0;36m<module>\u001b[0;34m()\u001b[0m\n\u001b[1;32m     16\u001b[0m \u001b[0;32mprint\u001b[0m \u001b[0;34m\"position: \"\u001b[0m\u001b[0;34m,\u001b[0m\u001b[0mx_poss\u001b[0m\u001b[0;34m\u001b[0m\u001b[0m\n\u001b[1;32m     17\u001b[0m \u001b[0;32mprint\u001b[0m \u001b[0;34m\"velocity: \"\u001b[0m\u001b[0;34m,\u001b[0m\u001b[0mv_poss\u001b[0m\u001b[0;34m\u001b[0m\u001b[0m\n\u001b[0;32m---> 18\u001b[0;31m \u001b[0;32mprint\u001b[0m \u001b[0mCA184\u001b[0m\u001b[0;34m(\u001b[0m\u001b[0mx_poss\u001b[0m\u001b[0;34m,\u001b[0m\u001b[0mv_poss\u001b[0m\u001b[0;34m,\u001b[0m\u001b[0mL\u001b[0m\u001b[0;34m)\u001b[0m\u001b[0;34m\u001b[0m\u001b[0m\n\u001b[0m",
        "\u001b[0;32m<ipython-input-38-4e28576bac59>\u001b[0m in \u001b[0;36mCA184\u001b[0;34m(pos, vel, Len)\u001b[0m\n\u001b[1;32m      5\u001b[0m             \u001b[0mg\u001b[0m\u001b[0;34m[\u001b[0m\u001b[0mi\u001b[0m\u001b[0;34m]\u001b[0m \u001b[0;34m=\u001b[0m \u001b[0mint\u001b[0m\u001b[0;34m(\u001b[0m\u001b[0mx_poss\u001b[0m\u001b[0;34m[\u001b[0m\u001b[0mi\u001b[0m\u001b[0;34m+\u001b[0m\u001b[0;36m1\u001b[0m\u001b[0;34m]\u001b[0m \u001b[0;34m-\u001b[0m \u001b[0mx_poss\u001b[0m\u001b[0;34m[\u001b[0m\u001b[0mi\u001b[0m\u001b[0;34m]\u001b[0m\u001b[0;34m)\u001b[0m\u001b[0;34m\u001b[0m\u001b[0m\n\u001b[1;32m      6\u001b[0m         \u001b[0;32melse\u001b[0m\u001b[0;34m:\u001b[0m\u001b[0;34m\u001b[0m\u001b[0m\n\u001b[0;32m----> 7\u001b[0;31m             \u001b[0mg\u001b[0m\u001b[0;34m[\u001b[0m\u001b[0mi\u001b[0m\u001b[0;34m]\u001b[0m \u001b[0;34m=\u001b[0m \u001b[0mL\u001b[0m \u001b[0;34m-\u001b[0m \u001b[0mx_poss\u001b[0m\u001b[0;34m[\u001b[0m\u001b[0mi\u001b[0m\u001b[0;34m]\u001b[0m\u001b[0;34m\u001b[0m\u001b[0m\n\u001b[0m\u001b[1;32m      8\u001b[0m      \u001b[0;32mfor\u001b[0m \u001b[0mi\u001b[0m \u001b[0;32min\u001b[0m \u001b[0mrange\u001b[0m\u001b[0;34m(\u001b[0m\u001b[0;36m0\u001b[0m\u001b[0;34m,\u001b[0m\u001b[0mL\u001b[0m\u001b[0;34m)\u001b[0m\u001b[0;34m:\u001b[0m\u001b[0;34m\u001b[0m\u001b[0m\n\u001b[1;32m      9\u001b[0m         \u001b[0;32mif\u001b[0m  \u001b[0mg\u001b[0m\u001b[0;34m[\u001b[0m\u001b[0mi\u001b[0m\u001b[0;34m]\u001b[0m \u001b[0;34m==\u001b[0m \u001b[0;36m0\u001b[0m\u001b[0;34m:\u001b[0m\u001b[0;34m\u001b[0m\u001b[0m\n",
        "\u001b[0;31mIndexError\u001b[0m: index out of bounds"
       ]
      },
      {
       "output_type": "stream",
       "stream": "stdout",
       "text": [
        "[ 0.  0.  0.  0.  0.]\n",
        "position:  [ 10.  18.  31.  38.  39.]\n",
        "velocity:  [ 17.  27.  53.   0.  10.]\n"
       ]
      }
     ],
     "prompt_number": 38
    },
    {
     "cell_type": "code",
     "collapsed": false,
     "input": [],
     "language": "python",
     "metadata": {},
     "outputs": [],
     "prompt_number": 24
    },
    {
     "cell_type": "code",
     "collapsed": false,
     "input": [],
     "language": "python",
     "metadata": {},
     "outputs": [],
     "prompt_number": 24
    },
    {
     "cell_type": "code",
     "collapsed": false,
     "input": [],
     "language": "python",
     "metadata": {},
     "outputs": []
    }
   ],
   "metadata": {}
  }
 ]
}