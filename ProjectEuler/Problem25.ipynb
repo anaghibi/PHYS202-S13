{
 "metadata": {
  "name": "Problem25.ipynb"
 },
 "nbformat": 3,
 "nbformat_minor": 0,
 "worksheets": [
  {
   "cells": [
    {
     "cell_type": "markdown",
     "metadata": {},
     "source": [
      "Problem 25\n",
      "=\n",
      "###1000-digit Fibonacci number\n",
      "\n",
      "The Fibonacci sequence is defined by the recurrence relation:\n",
      "\n",
      "$F_{n} = F_{n-1} + F_{n-2}$, where $F_{1} = 1$ and $F_{2} = 1$.\n",
      "Hence the first 12 terms will be:\n",
      "\n",
      "$F_{1} = 1$\n",
      "\n",
      "$F_{2} = 1$\n",
      "\n",
      "$F_{3} = 2$\n",
      "\n",
      "$F_4 = 3$\n",
      "\n",
      "$F_5 = 5$\n",
      "\n",
      "$F_6 = 8$\n",
      "\n",
      "$F_7 = 13$\n",
      "\n",
      "$F_8 = 21$\n",
      "\n",
      "$F_9 = 34$\n",
      "\n",
      "$F_{10} = 55$\n",
      "\n",
      "$F_{11} = 89$\n",
      "\n",
      "$F_{12} = 144$\n",
      "\n",
      "The 12th term, $F_{12}$, is the first term to contain three digits.\n",
      "\n",
      "What is the first term in the Fibonacci sequence to contain 1000 digits?"
     ]
    },
    {
     "cell_type": "code",
     "collapsed": false,
     "input": [
      "#Looked up equation for Fibonacci numbers on Wikipedia\n",
      "phi = (1 + 5**0.5)/2\n",
      "psi = -1/phi\n",
      "def fib(n):\n",
      "    F_n = (phi**n) - (psi**n)/(5**0.5)\n",
      "    return F_n"
     ],
     "language": "python",
     "metadata": {},
     "outputs": [],
     "prompt_number": 14
    },
    {
     "cell_type": "code",
     "collapsed": false,
     "input": [
      "fib(12) #function not working correctly"
     ],
     "language": "python",
     "metadata": {},
     "outputs": [
      {
       "output_type": "pyout",
       "prompt_number": 15,
       "text": [
        "321.9955055044918"
       ]
      }
     ],
     "prompt_number": 15
    },
    {
     "cell_type": "code",
     "collapsed": false,
     "input": [
      "n = 0\n",
      "fib_string = str(fib(n))"
     ],
     "language": "python",
     "metadata": {},
     "outputs": [],
     "prompt_number": 17
    },
    {
     "cell_type": "code",
     "collapsed": false,
     "input": [
      "while len(fib_string) < 1000:\n",
      "    n += n\n",
      "print n"
     ],
     "language": "python",
     "metadata": {},
     "outputs": [],
     "prompt_number": "*"
    },
    {
     "cell_type": "code",
     "collapsed": false,
     "input": [],
     "language": "python",
     "metadata": {},
     "outputs": []
    }
   ],
   "metadata": {}
  }
 ]
}