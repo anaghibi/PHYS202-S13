{
 "metadata": {
  "name": "ProjectEuler17.ipynb"
 },
 "nbformat": 3,
 "nbformat_minor": 0,
 "worksheets": [
  {
   "cells": [
    {
     "cell_type": "markdown",
     "metadata": {},
     "source": [
      "Problem 17\n",
      "=\n",
      "##Number Letter Count\n",
      "\n",
      "If the numbers 1 to 5 are written out in words: one, two, three, four, five, then there are 3 + 3 + 5 + 4 + 4 = 19 letters used in total.\n",
      "\n",
      "If all the numbers from 1 to 1000 (one thousand) inclusive were written out in words, how many letters would be used?\n",
      "\n",
      "\n",
      "NOTE: Do not count spaces or hyphens. For example, 342 (three hundred and forty-two) contains 23 letters and 115 (one hundred and fifteen) contains 20 letters. The use of \"and\" when writing out numbers is in compliance with British usage."
     ]
    },
    {
     "cell_type": "code",
     "collapsed": false,
     "input": [
      "ones_teens = [0,3,3,5,4,4,3,5,5,4,3,6,6,8,8,7,7,9,8,8] #1-19\n",
      "tens = [0,3,6,6,5,5,5,7,6,6] #10-90 by 10's\n",
      "hund = 7 #100\n",
      "th = 8 #1000\n",
      "\n",
      "total = 0\n",
      "for i in range(1,1000):\n",
      "    x = i % 10 \n",
      "    y = (i % 100 - x)/ 10 \n",
      "    z = (i % 1000 - y * 10 - x) / 100\n",
      " \n",
      "    if z != 0:\n",
      "        total += ones_teens[a] + H \n",
      "        if y != 0:\n",
      "            total += 3 #and\n",
      "        elif x != 0:\n",
      "            total += 3 #and\n",
      "    elif y == 0: \n",
      "        total += ones_teens[y * 10 + x]\n",
      "    elif y == 1:\n",
      "        total += ones_teens[y * 10 + x]\n",
      "    else: total += tens[y] + ones_teens[x]\n",
      " \n",
      "total += ones_teens[1] + th\n",
      "print total"
     ],
     "language": "python",
     "metadata": {},
     "outputs": [
      {
       "output_type": "stream",
       "stream": "stdout",
       "text": [
        "13438\n"
       ]
      }
     ],
     "prompt_number": 29
    },
    {
     "cell_type": "markdown",
     "metadata": {},
     "source": [
      "###Couldn't get the right answer..."
     ]
    },
    {
     "cell_type": "code",
     "collapsed": false,
     "input": [],
     "language": "python",
     "metadata": {},
     "outputs": []
    }
   ],
   "metadata": {}
  }
 ]
}