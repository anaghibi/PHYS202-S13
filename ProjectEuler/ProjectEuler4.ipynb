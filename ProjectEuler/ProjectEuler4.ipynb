{
 "metadata": {
  "name": "ProjectEuler4.ipynb"
 },
 "nbformat": 3,
 "nbformat_minor": 0,
 "worksheets": [
  {
   "cells": [
    {
     "cell_type": "markdown",
     "metadata": {},
     "source": [
      "Problem 4\n",
      "=\n",
      "##Largest Palindrome Product\n",
      "\n",
      "A palindromic number reads the same both ways. The largest palindrome made from the product of two 2-digit numbers is 9009 = 91 99.\n",
      "\n",
      "Find the largest palindrome made from the product of two 3-digit numbers.\n"
     ]
    },
    {
     "cell_type": "code",
     "collapsed": false,
     "input": [
      "number1 = arange(100,1000,1)\n",
      "number2 = arange(100,1000,1)"
     ],
     "language": "python",
     "metadata": {},
     "outputs": [],
     "prompt_number": 8
    },
    {
     "cell_type": "code",
     "collapsed": false,
     "input": [
      "def largest_palindrome():\n",
      "    palindrome = 0\n",
      "    for x in number1:\n",
      "        for y in number2:\n",
      "            p = x*y\n",
      "            if p > palindrome:\n",
      "                string = str(p)\n",
      "                if string == string[::-1]:\n",
      "                    palindrome = x*y\n",
      "                    print x #look for the largest numbers in x and y to find the numbers that make the palindrome\n",
      "                    print y\n",
      "    print \"largest palindrome is\", palindrome"
     ],
     "language": "python",
     "metadata": {},
     "outputs": [],
     "prompt_number": 67
    },
    {
     "cell_type": "code",
     "collapsed": false,
     "input": [
      "largest_palindrome()"
     ],
     "language": "python",
     "metadata": {},
     "outputs": [
      {
       "output_type": "stream",
       "stream": "stdout",
       "text": [
        "101\n",
        "101\n",
        "101\n",
        "111\n",
        "101\n",
        "121\n",
        "101\n",
        "131\n",
        "101\n",
        "141\n",
        "101\n",
        "151\n",
        "101\n",
        "161\n",
        "101\n",
        "171\n",
        "101\n",
        "181\n",
        "101\n",
        "191\n",
        "101\n",
        "202\n",
        "101\n",
        "212\n",
        "101\n",
        "222\n",
        "101\n",
        "232\n",
        "101\n",
        "242\n",
        "101\n",
        "252\n",
        "101\n",
        "262\n",
        "101\n",
        "272\n",
        "101\n",
        "282\n",
        "101\n",
        "292\n",
        "101\n",
        "303\n",
        "101\n",
        "313\n",
        "101\n",
        "323\n",
        "101\n",
        "333\n",
        "101\n",
        "343\n",
        "101\n",
        "353\n",
        "101\n",
        "363\n",
        "101\n",
        "373\n",
        "101\n",
        "383\n",
        "101\n",
        "393\n",
        "101\n",
        "404\n",
        "101\n",
        "414\n",
        "101\n",
        "424\n",
        "101\n",
        "434\n",
        "101\n",
        "444\n",
        "101\n",
        "454\n",
        "101\n",
        "464\n",
        "101\n",
        "474\n",
        "101\n",
        "484\n",
        "101\n",
        "494\n",
        "102\n",
        "613\n",
        "102\n",
        "618\n",
        "102\n",
        "819\n",
        "102\n",
        "824\n",
        "103\n",
        "866\n",
        "107\n",
        "877\n",
        "109\n",
        "911\n",
        "121"
       ]
      },
      {
       "output_type": "stream",
       "stream": "stdout",
       "text": [
        "\n",
        "881\n",
        "121\n",
        "991\n",
        "143\n",
        "847\n",
        "143\n",
        "917\n",
        "143\n",
        "987\n",
        "157\n",
        "913\n",
        "173"
       ]
      },
      {
       "output_type": "stream",
       "stream": "stdout",
       "text": [
        "\n",
        "957\n",
        "187\n",
        "903\n",
        "187\n",
        "933\n",
        "187\n",
        "963\n",
        "209\n",
        "909\n",
        "209\n",
        "978\n",
        "222"
       ]
      },
      {
       "output_type": "stream",
       "stream": "stdout",
       "text": [
        "\n",
        "946\n",
        "231\n",
        "952\n",
        "231\n",
        "962\n",
        "242\n",
        "941\n",
        "253\n",
        "944\n",
        "264"
       ]
      },
      {
       "output_type": "stream",
       "stream": "stdout",
       "text": [
        "\n",
        "968\n",
        "279\n",
        "968\n",
        "286\n",
        "952\n",
        "286\n",
        "987\n",
        "308"
       ]
      },
      {
       "output_type": "stream",
       "stream": "stdout",
       "text": [
        "\n",
        "949\n",
        "308\n",
        "974\n",
        "331\n",
        "913\n",
        "337\n",
        "979\n",
        "363"
       ]
      },
      {
       "output_type": "stream",
       "stream": "stdout",
       "text": [
        "\n",
        "961\n",
        "387\n",
        "979\n",
        "418"
       ]
      },
      {
       "output_type": "stream",
       "stream": "stdout",
       "text": [
        "\n",
        "978\n",
        "429\n",
        "966\n",
        "443\n",
        "968\n",
        "446\n",
        "979\n",
        "458\n",
        "968\n",
        "462\n",
        "962\n",
        "484"
       ]
      },
      {
       "output_type": "stream",
       "stream": "stdout",
       "text": [
        "\n",
        "971\n",
        "496\n",
        "979\n",
        "506\n",
        "964\n",
        "512\n",
        "957\n",
        "517\n",
        "995\n",
        "539\n",
        "975\n",
        "555"
       ]
      },
      {
       "output_type": "stream",
       "stream": "stdout",
       "text": [
        "\n",
        "957\n",
        "555\n",
        "979\n",
        "583\n",
        "995\n",
        "605\n",
        "979\n",
        "614"
       ]
      },
      {
       "output_type": "stream",
       "stream": "stdout",
       "text": [
        "\n",
        "979\n",
        "637\n",
        "968\n",
        "638\n",
        "977\n",
        "652\n",
        "968\n",
        "664\n",
        "979\n",
        "682"
       ]
      },
      {
       "output_type": "stream",
       "stream": "stdout",
       "text": [
        "\n",
        "958\n",
        "693\n",
        "962\n",
        "722\n",
        "968\n",
        "759"
       ]
      },
      {
       "output_type": "stream",
       "stream": "stdout",
       "text": [
        "\n",
        "953\n",
        "803"
       ]
      },
      {
       "output_type": "stream",
       "stream": "stdout",
       "text": [
        "\n",
        "909\n",
        "803\n",
        "959\n",
        "831\n",
        "968\n",
        "844\n",
        "957\n",
        "858"
       ]
      },
      {
       "output_type": "stream",
       "stream": "stdout",
       "text": [
        "\n",
        "966\n",
        "869\n",
        "982\n",
        "894\n",
        "957\n",
        "913"
       ]
      },
      {
       "output_type": "stream",
       "stream": "stdout",
       "text": [
        "\n",
        "993\n",
        "largest palindrome is"
       ]
      },
      {
       "output_type": "stream",
       "stream": "stdout",
       "text": [
        " 906609\n"
       ]
      }
     ],
     "prompt_number": 68
    },
    {
     "cell_type": "code",
     "collapsed": false,
     "input": [
      "x = 913 * 993\n",
      "print x"
     ],
     "language": "python",
     "metadata": {},
     "outputs": [
      {
       "output_type": "stream",
       "stream": "stdout",
       "text": [
        "906609\n"
       ]
      }
     ],
     "prompt_number": 55
    },
    {
     "cell_type": "markdown",
     "metadata": {},
     "source": [
      "## I used the print function to print the numbers that make palindromes and the largest palindrome was the product of 913 and 993. I verified my answer with my project euler account."
     ]
    },
    {
     "cell_type": "code",
     "collapsed": false,
     "input": [
      "#Test case\n",
      "number1_test = arange(10,100,1)\n",
      "number2_test = arange(10,100,1)\n",
      "def largest_palindrome_test():\n",
      "    palindrome_test = 0\n",
      "    for x in number1_test:\n",
      "        for y in number2_test:\n",
      "            p_test = x*y\n",
      "            if p_test > palindrome_test:\n",
      "                string_test = str(p_test)\n",
      "                if string_test == string_test[::-1]:\n",
      "                    palindrome_test = x*y\n",
      "                    print x #look for the largest numbers in x and y to find the numbers that make the palindrome\n",
      "                    print y\n",
      "    print \"largest palindrome is\", palindrome_test\n"
     ],
     "language": "python",
     "metadata": {},
     "outputs": [],
     "prompt_number": 59
    },
    {
     "cell_type": "code",
     "collapsed": false,
     "input": [
      "largest_palindrome_test()"
     ],
     "language": "python",
     "metadata": {},
     "outputs": [
      {
       "output_type": "stream",
       "stream": "stdout",
       "text": [
        "11\n",
        "11\n",
        "11\n",
        "22\n",
        "11\n",
        "33\n",
        "11\n",
        "44\n",
        "11\n",
        "56\n",
        "11\n",
        "67\n",
        "11\n",
        "78\n",
        "11\n",
        "89\n",
        "11\n",
        "91\n",
        "19\n",
        "99\n",
        "22\n",
        "91\n",
        "22\n",
        "96\n",
        "28\n",
        "99\n",
        "33\n",
        "91\n",
        "37\n",
        "99\n",
        "44\n",
        "91\n",
        "44\n",
        "96\n",
        "46\n",
        "99\n",
        "53\n",
        "88\n",
        "55\n",
        "91\n",
        "55\n",
        "93\n",
        "55\n",
        "95\n",
        "55\n",
        "97\n",
        "55\n",
        "99\n",
        "64\n",
        "99\n",
        "73\n",
        "99\n",
        "82\n",
        "99\n",
        "88\n",
        "96\n",
        "91\n",
        "99\n",
        "largest palindrome is 9009\n"
       ]
      }
     ],
     "prompt_number": 60
    },
    {
     "cell_type": "code",
     "collapsed": false,
     "input": [],
     "language": "python",
     "metadata": {},
     "outputs": []
    }
   ],
   "metadata": {}
  }
 ]
}