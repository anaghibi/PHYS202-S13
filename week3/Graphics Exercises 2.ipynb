{
 "metadata": {
  "name": "Graphics Exercises 2"
 },
 "nbformat": 3,
 "nbformat_minor": 0,
 "worksheets": [
  {
   "cells": [
    {
     "cell_type": "markdown",
     "metadata": {},
     "source": [
      "### Problem 1"
     ]
    },
    {
     "cell_type": "markdown",
     "metadata": {},
     "source": [
      "###$\\psi_{\\kappa} = A\\left(\\frac{ik - a\\tanh(ax)}{ik + a}\\right)e^{+ikx}$"
     ]
    },
    {
     "cell_type": "markdown",
     "metadata": {},
     "source": [
      "###$v_{1} = m_{2}\\sqrt{\\frac{2G}{M}\\left(\\frac{1}{r} - \\frac{1}{r_0}\\right)}$"
     ]
    },
    {
     "cell_type": "markdown",
     "metadata": {},
     "source": [
      "####$f(\\theta) = \\frac{\\hbar}{p}\\displaystyle\\sum^\\infty_{l=0}(2l + 1)e^{i\\delta_l}\\sin\\delta_{l}P_{l}(\\cos\\theta)$"
     ]
    },
    {
     "cell_type": "markdown",
     "metadata": {},
     "source": [
      "##$\\frac{d\\sigma}{d\\Omega} = \\frac{k\\pi^{2}(\\pi - \\theta)}{mu_0^{2}\\theta^{2}(2\\pi - \\theta)^{2}\\sin\\theta}$"
     ]
    },
    {
     "cell_type": "markdown",
     "metadata": {},
     "source": [
      "$\\langle{f}\\rangle = \\frac{1}{\\tau}\\int_{0}^{\\tau} f(t)dt$"
     ]
    },
    {
     "cell_type": "code",
     "collapsed": false,
     "input": [],
     "language": "python",
     "metadata": {},
     "outputs": []
    }
   ],
   "metadata": {}
  }
 ]
}